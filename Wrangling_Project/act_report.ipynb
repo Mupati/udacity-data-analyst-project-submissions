{
 "cells": [
  {
   "cell_type": "markdown",
   "metadata": {},
   "source": [
    "# WeRateDogs Tweets Insights and Visualization\n",
    "\n",
    "The [WeRateDogs Twitter page](https://twitter.com/dog_rates) is a \"Your Only Source For Professional Dog Ratings\". We analyze tweets from this page to answer the following questions about the dogs tweeted about.<br/>\n",
    "This analysis involves only original tweets by WeRateDogs that contain images. They don't contain other tweets retweeted by WeRateDogs.<br/>\n",
    "The breeds the dogs belong to were predicted based on the images. This dataset is combined with the data got from the WeRateDogs page.\n",
    "\n",
    "\n",
    "## The Most Popular Dog Stage\n",
    "\n",
    "Most of the dogs were in the `pupper` stage and `blep` being the least. None of the tweets indicated that a dog was at the `snoot` stage.<br/>\n",
    "![A Graph of Dog Stages](stage.png \"Dog Stages\")\n",
    "\n",
    "\n",
    "\n",
    "## The Most Popular Ratings\n",
    "\n",
    "The dog ratings are in the form of numerator/denominator. The dominant rating found was **12/10**. We represent a bar graph of the top 14 ratings.\n",
    "![A Graph of Ratings](rating.png \"Dog Ratings\")\n",
    "\n",
    "\n",
    "## Popular Breed\n",
    "\n",
    "The most popular breed found in the tweets was the `Golden Retriever`. The next four in descending order are `Labrador Retriever`, `Pembroke`, `Chihuahua` and `Pug`.\n",
    "![A Graph of Dog Breeds](breed.png \"Dog Breeds\")\n",
    "\n",
    "\n",
    "## Popular Sources from which most tweets come.\n",
    "\n",
    "All the tweets came from 4 sources.<br/>\n",
    "Most of the tweets came from `Twitter for iPhone` and the least come from `TweetDeck`.\n",
    "![A Graph of Dog Breeds](source.png \"Tweet Sources\")\n",
    "\n",
    "\n",
    "## Details of the tweet/dog with Most Retweets and Most Favorited\n",
    "\n",
    "Interestingly, the same tweet was most retweeted and the most favorited.<br/>\n",
    "The name couldn't be found. It is a Labrador Retriever doggo which is rated 13/10, tweeted from 'Twitter with iPhone'. For the link to the tweet click [here](https://twitter.com/dog_rates/status/744234799360020481)\n",
    "\n",
    "### Resources\n",
    "<ul>\n",
    "    <li>\n",
    "<a href=\"https://weratedogs.netlify.app/analysis\">Link to the full Analysis</a>\n",
    "    </li>\n",
    "    <li>\n",
    "<a href=\"https://github.com/Mupati/udacity-data-analyst-project-submissions/tree/master/Wrangling_Project\">Link to Project Repository</a>\n",
    "    </li>\n",
    "    <li>\n",
    "<a href=\"https://weratedogs.netlify.app/report.pdf\">Project Report</a>\n",
    "    </li>\n",
    "    </ul>"
   ]
  }
 ],
 "metadata": {
  "kernelspec": {
   "display_name": "Python 3",
   "language": "python",
   "name": "python3"
  },
  "language_info": {
   "codemirror_mode": {
    "name": "ipython",
    "version": 3
   },
   "file_extension": ".py",
   "mimetype": "text/x-python",
   "name": "python",
   "nbconvert_exporter": "python",
   "pygments_lexer": "ipython3",
   "version": "3.6.10"
  }
 },
 "nbformat": 4,
 "nbformat_minor": 4
}
